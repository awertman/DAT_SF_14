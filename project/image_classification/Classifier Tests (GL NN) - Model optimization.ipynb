{
 "cells": [
  {
   "cell_type": "code",
   "execution_count": 199,
   "metadata": {
    "collapsed": false
   },
   "outputs": [],
   "source": [
    "import pandas as pd\n",
    "import pickle\n",
    "import numpy as np\n",
    "import datetime\n",
    "\n",
    "from sklearn.ensemble import RandomForestClassifier, AdaBoostClassifier\n",
    "from sklearn.tree import DecisionTreeRegressor, DecisionTreeClassifier \n",
    "from sklearn.linear_model import LogisticRegression\n",
    "from sklearn.naive_bayes import GaussianNB, MultinomialNB \n",
    "from sklearn.decomposition import RandomizedPCA,PCA\n",
    "from sklearn.neighbors import KNeighborsClassifier\n",
    "from sklearn.svm import SVC\n",
    "from sklearn.lda import LDA\n",
    "from sklearn.qda import QDA\n",
    "\n",
    "from sklearn.pipeline import make_pipeline\n",
    "# from sklearn import svm\n",
    "from scipy.stats import mode\n",
    "from sklearn.cross_validation import cross_val_score\n",
    "\n",
    "import seaborn as sns\n",
    "from seaborn import plt\n",
    "\n",
    "%matplotlib inline"
   ]
  },
  {
   "cell_type": "code",
   "execution_count": 3,
   "metadata": {
    "collapsed": false
   },
   "outputs": [],
   "source": [
    "train = pd.DataFrame(pickle.load(open('/Volumes/flash/compology/image_data/train_gl_nn_data.pickle','r')))"
   ]
  },
  {
   "cell_type": "code",
   "execution_count": 4,
   "metadata": {
    "collapsed": true
   },
   "outputs": [],
   "source": [
    "test = pd.DataFrame(pickle.load(open('/Volumes/flash/compology/image_data/test_gl_nn_data.pickle','r')))"
   ]
  },
  {
   "cell_type": "code",
   "execution_count": 5,
   "metadata": {
    "collapsed": true
   },
   "outputs": [],
   "source": [
    "class ProcessTimer:\n",
    "  def __init__(self):\n",
    "    self.startTime = datetime.datetime.now()\n",
    "  def start(self,functionResponse,name=\"\"):\n",
    "    endTime = datetime.datetime.now()\n",
    "    self.delta = (endTime - self.startTime)\n",
    "    print \"{} Time |{}|\".format(name,self.delta.seconds)\n",
    "    return functionResponse"
   ]
  },
  {
   "cell_type": "code",
   "execution_count": 6,
   "metadata": {
    "collapsed": false
   },
   "outputs": [
    {
     "name": "stdout",
     "output_type": "stream",
     "text": [
      "12087 5181\n"
     ]
    }
   ],
   "source": [
    "X_train = list(train['pixel_data'][:].values)\n",
    "y_train = list(train['label'][:].values)\n",
    "\n",
    "X_test = list(test['pixel_data'].values)\n",
    "y_test = list(test['label'].values)\n",
    "print len(X_train),len(X_test)"
   ]
  },
  {
   "cell_type": "code",
   "execution_count": 21,
   "metadata": {
    "collapsed": false
   },
   "outputs": [],
   "source": [
    "pca = PCA(n_components=200)\n",
    "X_train = pca.fit_transform(list(train['pixel_data'].values))\n",
    "X_test = pca.transform(list(test['pixel_data'].values))"
   ]
  },
  {
   "cell_type": "markdown",
   "metadata": {},
   "source": [
    "# KNN Classifier"
   ]
  },
  {
   "cell_type": "code",
   "execution_count": 27,
   "metadata": {
    "collapsed": false
   },
   "outputs": [
    {
     "name": "stdout",
     "output_type": "stream",
     "text": [
      "26\n",
      "[9, 11, 13, 15, 17, 19, 21, 23, 25, 27, 29, 31, 33, 35, 37, 39, 41, 43, 45, 47, 49, 51, 53, 55, 57, 59]\n"
     ]
    }
   ],
   "source": [
    "n_neighbors = range(9, 61, 2)\n",
    "print len(n_neighbors)\n",
    "print n_neighbors"
   ]
  },
  {
   "cell_type": "code",
   "execution_count": 28,
   "metadata": {
    "collapsed": false
   },
   "outputs": [
    {
     "name": "stdout",
     "output_type": "stream",
     "text": [
      "9 | 0.349932445474\n",
      "11 | 0.354564755839\n",
      "13 | 0.355336807566\n",
      "15 | 0.358232001544\n",
      "17 | 0.359776104999\n",
      "19 | 0.356494885157\n",
      "21 | 0.355915846362\n",
      "23 | 0.358425014476\n",
      "25 | 0.359390079135\n",
      "27 | 0.358425014476\n",
      "29 | 0.363250337773\n",
      "31 | 0.362478286045\n",
      "33 | 0.367303609342\n",
      "35 | 0.365952518819\n",
      "37 | 0.369619764524\n",
      "39 | 0.364408415364\n",
      "41 | 0.368268674001\n",
      "43 | 0.369812777456\n",
      "45 | 0.370970855047\n",
      "47 | 0.368654699865\n",
      "49 | 0.367689635206\n",
      "51 | 0.367303609342\n",
      "53 | 0.369426751592\n",
      "55 | 0.36711059641\n",
      "57 | 0.365952518819\n",
      "59 | 0.365952518819\n"
     ]
    }
   ],
   "source": [
    "scores = []\n",
    "for n in n_neighbors:\n",
    "    clf = KNeighborsClassifier(n,weights='distance') # weights='uniform'\n",
    "    clf.fit(X_train, y_train)\n",
    "    score = clf.score(X_test, y_test)\n",
    "#     print str(n),\"|\",score\n",
    "    scores.append(score)"
   ]
  },
  {
   "cell_type": "code",
   "execution_count": 35,
   "metadata": {
    "collapsed": false
   },
   "outputs": [
    {
     "name": "stdout",
     "output_type": "stream",
     "text": [
      "0.370970855047\n",
      "Optimal N: 45\n"
     ]
    },
    {
     "data": {
      "image/png": "[encoded data removed]",
      "text/plain": [
       "<matplotlib.figure.Figure at 0x10383afd0>"
      ]
     },
     "metadata": {},
     "output_type": "display_data"
    }
   ],
   "source": [
    "plt.plot(n_neighbors, scores, linewidth=3.0)\n",
    "print np.asarray(scores).max()\n",
    "for i,s in enumerate(scores): \n",
    "    if s==np.asarray(scores).max(): print \"Optimal N: {}\".format(n_neighbors[i])"
   ]
  },
  {
   "cell_type": "code",
   "execution_count": 36,
   "metadata": {
    "collapsed": false
   },
   "outputs": [
    {
     "name": "stdout",
     "output_type": "stream",
     "text": [
      "KNN by distance: 0.370970855047\n",
      "KNN uniform: 0.364601428296\n"
     ]
    }
   ],
   "source": [
    "clf = KNeighborsClassifier(45,weights='distance')\n",
    "clf.fit(X_train, y_train)\n",
    "print \"KNN by distance: {}\".format(clf.score(X_test, y_test))\n",
    "\n",
    "clf = KNeighborsClassifier(45,weights='uniform')\n",
    "clf.fit(X_train, y_train)\n",
    "print \"KNN uniform: {}\".format(clf.score(X_test, y_test))"
   ]
  },
  {
   "cell_type": "markdown",
   "metadata": {},
   "source": [
    "### FINDINGS: KNN Classifier\n",
    "1. N = 45\n",
    "2. weights = distance"
   ]
  },
  {
   "cell_type": "markdown",
   "metadata": {},
   "source": [
    "# Logistic Regression Classifier"
   ]
  },
  {
   "cell_type": "code",
   "execution_count": 37,
   "metadata": {
    "collapsed": true
   },
   "outputs": [],
   "source": [
    "# normalization penalty\n",
    "cValues = [0.001, 0.01, 0.1, 1, 10, 100, 1000,1000,10000]"
   ]
  },
  {
   "cell_type": "code",
   "execution_count": 40,
   "metadata": {
    "collapsed": false
   },
   "outputs": [
    {
     "name": "stdout",
     "output_type": "stream",
     "text": [
      "0.001 , 0.385639837869\n",
      "0.01 , 0.388342018915\n",
      "0.1 , 0.390079135302\n",
      "1 , 0.385832850801\n",
      "10 , 0.385832850801\n",
      "100 , 0.385253812005\n",
      "1000 , 0.385060799074\n",
      "1000 , 0.385060799074\n",
      "10000 , 0.385060799074\n"
     ]
    }
   ],
   "source": [
    "lrScores = []\n",
    "for c in cValues:\n",
    "    lr = LogisticRegression(C=c,penalty='l2')\n",
    "    lr.fit(X_train,y_train)\n",
    "    score = lr.score(X_test,y_test)\n",
    "    print str(c),\",\",score\n",
    "    lrScores.append(score)"
   ]
  },
  {
   "cell_type": "code",
   "execution_count": 41,
   "metadata": {
    "collapsed": false
   },
   "outputs": [
    {
     "name": "stdout",
     "output_type": "stream",
     "text": [
      "0.001 , 0.364215402432\n",
      "0.01 , 0.377726307663\n",
      "0.1 , 0.379656436981\n",
      "1 , 0.377919320594\n",
      "10 , 0.375217139548\n",
      "100 , 0.375217139548\n",
      "1000 , 0.375217139548\n",
      "1000 , 0.375217139548\n",
      "10000 , 0.375217139548\n"
     ]
    }
   ],
   "source": [
    "for c in cValues:\n",
    "    lr = LogisticRegression(C=c,penalty='l2',class_weight='auto')\n",
    "    lr.fit(X_train,y_train)\n",
    "    score = lr.score(X_test,y_test)\n",
    "    print str(c),\",\",score"
   ]
  },
  {
   "cell_type": "code",
   "execution_count": 43,
   "metadata": {
    "collapsed": false
   },
   "outputs": [
    {
     "name": "stdout",
     "output_type": "stream",
     "text": [
      "Optimal N: 0.1\n"
     ]
    }
   ],
   "source": [
    "for i,s in enumerate(lrScores): \n",
    "    if s==np.asarray(lrScores).max(): print \"Optimal N: {}\".format(cValues[i])"
   ]
  },
  {
   "cell_type": "markdown",
   "metadata": {},
   "source": [
    "### FINDINGS Logistic Regression\n",
    "1. penalty = 'l2'\n",
    "2. unweighted had higher accuracy, likely due to distribution of test.. but will use auto class weight\n",
    "3. c=0.1"
   ]
  },
  {
   "cell_type": "markdown",
   "metadata": {},
   "source": [
    "# Decision Tree Classifier"
   ]
  },
  {
   "cell_type": "code",
   "execution_count": 44,
   "metadata": {
    "collapsed": true
   },
   "outputs": [],
   "source": [
    "from sklearn.grid_search import GridSearchCV"
   ]
  },
  {
   "cell_type": "code",
   "execution_count": 52,
   "metadata": {
    "collapsed": false
   },
   "outputs": [
    {
     "name": "stdout",
     "output_type": "stream",
     "text": [
      "1 , 0.199961397414\n",
      "2 , 0.225053078556\n",
      "3 , 0.247635591585\n",
      "4 , 0.270604130477\n",
      "5 , 0.286624203822\n",
      "6 , 0.289905423663\n",
      "7 , 0.278710673615\n",
      "None , 0.258830341633\n"
     ]
    }
   ],
   "source": [
    "dtcScores = []\n",
    "for d in [1,2,3,4,5,6,7,None]: # tree depth\n",
    "    dtc = DecisionTreeClassifier(max_depth=d) \n",
    "    dtc.fit(X_train,y_train)\n",
    "    score = dtc.score(X_test,y_test)\n",
    "    print str(d),\",\",score\n",
    "    dtcScores.append(score)"
   ]
  },
  {
   "cell_type": "markdown",
   "metadata": {},
   "source": [
    "### FINDINGS Decision Tree\n",
    "1. max_depth = 6"
   ]
  },
  {
   "cell_type": "markdown",
   "metadata": {},
   "source": [
    "# AdaBoost"
   ]
  },
  {
   "cell_type": "code",
   "execution_count": 57,
   "metadata": {
    "collapsed": false
   },
   "outputs": [
    {
     "name": "stdout",
     "output_type": "stream",
     "text": [
      "10 , 0.271183169272\n",
      "20 , 0.281991893457\n",
      "30 , 0.293958695233\n",
      "40 , 0.275815479637\n",
      "50 , 0.277359583092\n",
      "60 , 0.278517660683\n",
      "70 , 0.278903686547\n"
     ]
    }
   ],
   "source": [
    "# ABC\n",
    "abcScores = []\n",
    "for n in [10,20,30,40,50,60,70]: # number of estimators\n",
    "    abc = AdaBoostClassifier(n_estimators=n, random_state=1)\n",
    "    abc.fit(X_train,y_train)\n",
    "    score = abc.score(X_test,y_test)\n",
    "    print str(n),\",\",score\n",
    "    abcScores.append(score)"
   ]
  },
  {
   "cell_type": "code",
   "execution_count": 58,
   "metadata": {
    "collapsed": false
   },
   "outputs": [
    {
     "name": "stdout",
     "output_type": "stream",
     "text": [
      "None , 0.268480988226\n",
      "None , 0.265971820112\n",
      "None , 0.262497587338\n",
      "None , 0.241845203629\n",
      "None , 0.238756996719\n",
      "None , 0.241266164833\n",
      "None , 0.249951746767\n"
     ]
    }
   ],
   "source": [
    "## boosted tree\n",
    "bdtcScores = []\n",
    "for n in [10,20,30,40,50,60,70]:\n",
    "    bdtc = AdaBoostClassifier(DecisionTreeClassifier(max_depth=6),n_estimators=n)\n",
    "    bdtc.fit(X_train,y_train)\n",
    "    score = bdtc.score(X_test,y_test)\n",
    "    print str(n),\",\",score\n",
    "    bdtcScores.append(score)"
   ]
  },
  {
   "cell_type": "markdown",
   "metadata": {},
   "source": [
    "### Boosted Tree Findings:\n",
    "1. max_depth = None\n",
    "2. n_estimators = 30"
   ]
  },
  {
   "cell_type": "markdown",
   "metadata": {},
   "source": [
    "# Random Forest"
   ]
  },
  {
   "cell_type": "code",
   "execution_count": 59,
   "metadata": {
    "collapsed": false
   },
   "outputs": [
    {
     "name": "stdout",
     "output_type": "stream",
     "text": [
      "Random forest, number of estimators:\n",
      "10 , 0.247635591585\n",
      "20 , 0.264427716657\n",
      "30 , 0.262497587338\n",
      "40 , 0.263848677861\n",
      "50 , 0.265006755453\n",
      "60 , 0.266164833044\n",
      "70 , 0.266743871839\n"
     ]
    }
   ],
   "source": [
    "rfcScores = []\n",
    "print \"Random forest, number of estimators:\"\n",
    "for n in [10,20,30,40,50,60,70]: #number of estimators\n",
    "    rfc = RandomForestClassifier(max_depth=5, n_estimators=n, random_state=1)\n",
    "    rfc.fit(X_train,y_train)\n",
    "    score = rfc.score(X_test,y_test)\n",
    "    print str(n),\",\",score\n",
    "    rfcScores.append(score)\n"
   ]
  },
  {
   "cell_type": "code",
   "execution_count": 60,
   "metadata": {
    "collapsed": false
   },
   "outputs": [
    {
     "name": "stdout",
     "output_type": "stream",
     "text": [
      "Random forest, max depth:\n",
      "1 , 0.20266357846\n",
      "2 , 0.218104613009\n",
      "3 , 0.233352634627\n",
      "4 , 0.247828604517\n",
      "5 , 0.262497587338\n",
      "6 , 0.275622466705\n",
      "7 , 0.283149971048\n",
      "None , 0.309592742714\n"
     ]
    }
   ],
   "source": [
    "rfcScores = []\n",
    "print \"Random forest, max depth:\"\n",
    "for d in [1,2,3,4,5,6,7,None]: # tree depth\n",
    "    rfc = RandomForestClassifier(max_depth=d, n_estimators=30, random_state=1)\n",
    "    rfc.fit(X_train,y_train)\n",
    "    score = rfc.score(X_test,y_test)\n",
    "    print str(d),\",\",score\n",
    "    rfcScores.append(score)\n"
   ]
  },
  {
   "cell_type": "markdown",
   "metadata": {},
   "source": [
    "### FINDINGS Random Forest Classifier\n",
    "1. Max depth = None\n",
    "2. n_estimators = 30"
   ]
  },
  {
   "cell_type": "markdown",
   "metadata": {},
   "source": [
    "# Linear SVC"
   ]
  },
  {
   "cell_type": "code",
   "execution_count": 208,
   "metadata": {
    "collapsed": false
   },
   "outputs": [
    {
     "name": "stdout",
     "output_type": "stream",
     "text": [
      " Time |45|\n",
      "Linear SVC Score: 0.401080872418\n"
     ]
    }
   ],
   "source": [
    "# Linear SVC\n",
    "lsvclf = SVC(kernel=\"linear\", C=0.025)\n",
    "ProcessTimer().start(lsvclf.fit(X_train,y_train))\n",
    "print \"Linear SVC Score: {}\".format(lsvclf.score(X_test,y_test))"
   ]
  },
  {
   "cell_type": "code",
   "execution_count": null,
   "metadata": {
    "collapsed": true
   },
   "outputs": [],
   "source": [
    "# "
   ]
  },
  {
   "cell_type": "code",
   "execution_count": 211,
   "metadata": {
    "collapsed": false
   },
   "outputs": [
    {
     "name": "stdout",
     "output_type": "stream",
     "text": [
      " Time |107|\n",
      "SVC Score: 0.160779772245\n"
     ]
    }
   ],
   "source": [
    "# additional tests\n",
    "svcclf = SVC(gamma=2, C=1)\n",
    "ProcessTimer().start(svcclf.fit(X_train,y_train))\n",
    "print \"SVC Score: {}\".format(svcclf.score(X_test,y_test))"
   ]
  },
  {
   "cell_type": "markdown",
   "metadata": {},
   "source": [
    "# Linear discrimant analysis (LDA)"
   ]
  },
  {
   "cell_type": "code",
   "execution_count": 209,
   "metadata": {
    "collapsed": false
   },
   "outputs": [
    {
     "name": "stdout",
     "output_type": "stream",
     "text": [
      " Time |0|\n",
      "LDA Score: 0.410731519012\n"
     ]
    }
   ],
   "source": [
    "ldaclf = LDA()\n",
    "ProcessTimer().start(ldaclf.fit(X_train,y_train))\n",
    "print \"LDA Score: {}\".format(ldaclf.score(X_test,y_test))\n"
   ]
  },
  {
   "cell_type": "markdown",
   "metadata": {},
   "source": [
    "# Quadratic Discriminant Analysis (QDA)"
   ]
  },
  {
   "cell_type": "code",
   "execution_count": 216,
   "metadata": {
    "collapsed": false
   },
   "outputs": [
    {
     "name": "stdout",
     "output_type": "stream",
     "text": [
      " Time |0|\n",
      "QDA Score: 0.357652962749\n"
     ]
    }
   ],
   "source": [
    "qdaclf = QDA()\n",
    "ProcessTimer().start(qdaclf.fit(X_train,y_train))\n",
    "print \"QDA Score: {}\".format(qdaclf.score(X_test,y_test))\n"
   ]
  },
  {
   "cell_type": "code",
   "execution_count": null,
   "metadata": {
    "collapsed": true
   },
   "outputs": [],
   "source": []
  },
  {
   "cell_type": "code",
   "execution_count": 21,
   "metadata": {
    "collapsed": false
   },
   "outputs": [
    {
     "name": "stdout",
     "output_type": "stream",
     "text": [
      "Boosted Tree accuracy: 0.298011966802\n"
     ]
    }
   ],
   "source": [
    "# bdt_discrete = AdaBoostClassifier(\n",
    "#     DecisionTreeClassifier(max_depth=2),\n",
    "#     n_estimators=600,\n",
    "#     learning_rate=1.5,\n",
    "#     algorithm=\"SAMME\")\n",
    "# bdt_discrete.fit(Xtrain,y_train)\n",
    "# print 'Boosted Tree accuracy: {}'.format(bdt_discrete.score(Xtest,y_test))"
   ]
  },
  {
   "cell_type": "code",
   "execution_count": null,
   "metadata": {
    "collapsed": true
   },
   "outputs": [],
   "source": []
  },
  {
   "cell_type": "code",
   "execution_count": 212,
   "metadata": {
    "collapsed": false
   },
   "outputs": [
    {
     "name": "stdout",
     "output_type": "stream",
     "text": [
      "Pipeline(steps=[('pca', PCA(copy=True, n_components=200, whiten=False)), ('logisticregression', LogisticRegression(C=0.1, class_weight='auto', dual=False, fit_intercept=True,\n",
      "          intercept_scaling=1, penalty='l2', random_state=None, tol=0.0001))])\n",
      "PCA / LOG Pipeline score: 0.379656436981\n"
     ]
    }
   ],
   "source": [
    "clfPip = make_pipeline(PCA(n_components=200),LogisticRegression(C=0.1,class_weight='auto',penalty='l2'))\n",
    "print testClf\n",
    "clfPip.fit(list(train['pixel_data'][:].values),list(train['label'][:].values))\n",
    "print \"PCA / LOG Pipeline score: {}\".format(clfPip.score(list(test['pixel_data'][:].values),list(test['label'][:].values)))"
   ]
  },
  {
   "cell_type": "code",
   "execution_count": null,
   "metadata": {
    "collapsed": true
   },
   "outputs": [],
   "source": []
  },
  {
   "cell_type": "code",
   "execution_count": null,
   "metadata": {
    "collapsed": false
   },
   "outputs": [],
   "source": []
  }
 ],
 "metadata": {
  "kernelspec": {
   "display_name": "Python 2",
   "language": "python",
   "name": "python2"
  },
  "language_info": {
   "codemirror_mode": {
    "name": "ipython",
    "version": 2
   },
   "file_extension": ".py",
   "mimetype": "text/x-python",
   "name": "python",
   "nbconvert_exporter": "python",
   "pygments_lexer": "ipython2",
   "version": "2.7.9"
  }
 },
 "nbformat": 4,
 "nbformat_minor": 0
}
