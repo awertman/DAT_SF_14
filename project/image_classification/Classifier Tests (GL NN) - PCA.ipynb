{
 "cells": [
  {
   "cell_type": "code",
   "execution_count": 1,
   "metadata": {
    "collapsed": false
   },
   "outputs": [],
   "source": [
    "import pandas as pd\n",
    "import pickle\n",
    "import numpy as np\n",
    "import datetime\n",
    "\n",
    "from sklearn.ensemble import RandomForestClassifier, AdaBoostClassifier\n",
    "from sklearn.tree import DecisionTreeRegressor, DecisionTreeClassifier \n",
    "from sklearn.linear_model import LogisticRegression\n",
    "from sklearn.naive_bayes import GaussianNB, MultinomialNB \n",
    "from sklearn.decomposition import RandomizedPCA,PCA\n",
    "from sklearn.neighbors import KNeighborsClassifier\n",
    "# from sklearn import svm\n",
    "from sklearn.cross_validation import cross_val_score\n",
    "\n",
    "import seaborn as sns\n",
    "from seaborn import plt\n",
    "\n",
    "%matplotlib inline"
   ]
  },
  {
   "cell_type": "code",
   "execution_count": 2,
   "metadata": {
    "collapsed": false
   },
   "outputs": [],
   "source": [
    "train = pd.DataFrame(pickle.load(open('/Volumes/flash/compology/image_data/train_gl_nn_data.pickle','r')))"
   ]
  },
  {
   "cell_type": "code",
   "execution_count": 3,
   "metadata": {
    "collapsed": true
   },
   "outputs": [],
   "source": [
    "test = pd.DataFrame(pickle.load(open('/Volumes/flash/compology/image_data/test_gl_nn_data.pickle','r')))"
   ]
  },
  {
   "cell_type": "code",
   "execution_count": 4,
   "metadata": {
    "collapsed": true
   },
   "outputs": [],
   "source": [
    "class ProcessTimer:\n",
    "  def __init__(self):\n",
    "    self.startTime = datetime.datetime.now()\n",
    "  def start(self,functionResponse,name=\"\"):\n",
    "    endTime = datetime.datetime.now()\n",
    "    self.delta = (endTime - self.startTime)\n",
    "    print \"{} Time |{}|\".format(name,self.delta.seconds)\n",
    "    return functionResponse"
   ]
  },
  {
   "cell_type": "code",
   "execution_count": 6,
   "metadata": {
    "collapsed": false
   },
   "outputs": [
    {
     "name": "stdout",
     "output_type": "stream",
     "text": [
      "12087 5181\n"
     ]
    }
   ],
   "source": [
    "X_train = list(train['pixel_data'][:].values)\n",
    "y_train = list(train['label'][:].values)\n",
    "\n",
    "X_test = list(test['pixel_data'].values)\n",
    "y_test = list(test['label'].values)\n",
    "print len(X_train),len(X_test)"
   ]
  },
  {
   "cell_type": "code",
   "execution_count": null,
   "metadata": {
    "collapsed": true
   },
   "outputs": [],
   "source": []
  },
  {
   "cell_type": "code",
   "execution_count": 18,
   "metadata": {
    "collapsed": false
   },
   "outputs": [
    {
     "data": {
      "text/plain": [
       "array([[<matplotlib.axes._subplots.AxesSubplot object at 0x1975125d0>]], dtype=object)"
      ]
     },
     "execution_count": 18,
     "metadata": {},
     "output_type": "execute_result"
    },
    {
     "data": {
      "image/png": "[encoded data removed]",
      "text/plain": [
       "<matplotlib.figure.Figure at 0x197512390>"
      ]
     },
     "metadata": {},
     "output_type": "display_data"
    }
   ],
   "source": [
    "pd.DataFrame(y_train).hist(bins=10)"
   ]
  },
  {
   "cell_type": "markdown",
   "metadata": {},
   "source": [
    "## Test for optimum number of components out of ~4k"
   ]
  },
  {
   "cell_type": "code",
   "execution_count": 7,
   "metadata": {
    "collapsed": false
   },
   "outputs": [
    {
     "name": "stdout",
     "output_type": "stream",
     "text": [
      "PCA 100 Time |123|\n",
      "Log 100 Time |11|\n",
      "{'score': 0.36865469986489097}\n",
      "\n",
      "PCA 200 Time |124|\n",
      "Log 200 Time |26|\n",
      "{'score': 0.37791932059447986}\n",
      "\n",
      "PCA 400 Time |120|\n",
      "Log 400 Time |62|\n",
      "{'score': 0.35726693688477129}\n",
      "\n",
      "PCA 800 Time |114|\n",
      "Log 800 Time |182|\n",
      "{'score': 0.34491410924531946}\n",
      "\n",
      "PCA 1600 Time |125|\n",
      "Log 1600 Time |474|\n",
      "{'score': 0.35109052306504535}\n",
      "\n",
      "PCA 3200 Time |116|\n",
      "Log 3200 Time |937|\n",
      "{'score': 0.33835166956186064}\n",
      "\n",
      "Log all Time |394|\n",
      "{'score': 0.3464582127002509}\n",
      "\n"
     ]
    }
   ],
   "source": [
    "pcaResults = {}\n",
    "for n in [100,200,400,800,1600,3200,\"all\"]:    \n",
    "    if n != \"all\":\n",
    "        pca = PCA(n_components=n)\n",
    "        Xtrain = ProcessTimer().start(pca.fit_transform(X_train),name=\"PCA \"+ str(n))\n",
    "        Xtest = pca.transform(X_test)\n",
    "    else:\n",
    "        Xtrain = X_train[:]\n",
    "        Xtest = X_test[:]\n",
    "    pcaResults[n] = {}\n",
    "    \n",
    "    lr = LogisticRegression(class_weight='auto')\n",
    "    ProcessTimer().start(lr.fit(Xtrain,y_train),name=\"Log \" + str(n))\n",
    "    pcaResults[n]['score'] = lr.score(Xtest,y_test)\n",
    "    print pcaResults[n]\n",
    "    pcaResults[n]['explained_variance'] = pca.explained_variance_ratio_\n",
    "    print\n",
    "    "
   ]
  },
  {
   "cell_type": "code",
   "execution_count": null,
   "metadata": {
    "collapsed": true
   },
   "outputs": [],
   "source": []
  },
  {
   "cell_type": "code",
   "execution_count": 9,
   "metadata": {
    "collapsed": false
   },
   "outputs": [
    {
     "name": "stdout",
     "output_type": "stream",
     "text": [
      "PCA 100 Time |121|\n",
      "DTC 100 Time |1|\n",
      "{'score': 0.28121984172939585}\n",
      "\n",
      "PCA 200 Time |121|\n",
      "DTC 200 Time |2|\n",
      "{'score': 0.28662420382165604}\n",
      "\n",
      "PCA 400 Time |121|\n",
      "DTC 400 Time |4|\n",
      "{'score': 0.28546612623045742}\n",
      "\n",
      "PCA 800 Time |125|\n",
      "DTC 800 Time |8|\n",
      "{'score': 0.28237791932059447}\n",
      "\n",
      "PCA 1600 Time |121|\n",
      "DTC 1600 Time |16|\n",
      "{'score': 0.28276394518432735}\n",
      "\n",
      "PCA 3200 Time |119|\n",
      "DTC 3200 Time |33|\n",
      "{'score': 0.28276394518432735}\n",
      "\n",
      "DTC all Time |29|\n",
      "{'score': 0.27909669947886506}\n",
      "\n"
     ]
    }
   ],
   "source": [
    "pcaResultsDTC = {}\n",
    "for n in [100,200,400,800,1600,3200,\"all\"]:    \n",
    "    if n != \"all\":\n",
    "        pca = PCA(n_components=n)\n",
    "        Xtrain = ProcessTimer().start(pca.fit_transform(X_train),name=\"PCA \"+ str(n))\n",
    "        Xtest = pca.transform(X_test)\n",
    "    else:\n",
    "        Xtrain = X_train[:]\n",
    "        Xtest = X_test[:]\n",
    "    pcaResultsDTC[n] = {}\n",
    "    \n",
    "    dtc = DecisionTreeClassifier(max_depth=5, random_state=1)#, class_weight='auto'\n",
    "    ProcessTimer().start(dtc.fit(Xtrain,y_train),name=\"DTC \" + str(n))\n",
    "    pcaResultsDTC[n]['score'] = dtc.score(Xtest,y_test)\n",
    "    print pcaResultsDTC[n]\n",
    "    print\n",
    "    "
   ]
  },
  {
   "cell_type": "code",
   "execution_count": null,
   "metadata": {
    "collapsed": true
   },
   "outputs": [],
   "source": []
  },
  {
   "cell_type": "markdown",
   "metadata": {},
   "source": [
    "## PCA explanations"
   ]
  },
  {
   "cell_type": "code",
   "execution_count": 13,
   "metadata": {
    "collapsed": false
   },
   "outputs": [
    {
     "name": "stdout",
     "output_type": "stream",
     "text": [
      "Best PCA score for log reg: 0.377919320594\n",
      "Explained variance: 0.829067561279\n",
      "\n"
     ]
    }
   ],
   "source": [
    "pca = PCA(n_components=200)\n",
    "Xtrain = pca.fit_transform(X_train)\n",
    "Xtest = pca.transform(X_test)\n",
    "    \n",
    "lr = LogisticRegression(class_weight='auto')\n",
    "lr.fit(Xtrain,y_train)\n",
    "print \"Best PCA score for log reg: {}\".format(lr.score(Xtest,y_test))\n",
    "print \"Explained variance: {}\".format(pca.explained_variance_ratio_.sum())\n",
    "print\n",
    "    "
   ]
  },
  {
   "cell_type": "code",
   "execution_count": 14,
   "metadata": {
    "collapsed": false
   },
   "outputs": [
    {
     "name": "stdout",
     "output_type": "stream",
     "text": [
      "0.829067561279\n"
     ]
    },
    {
     "data": {
      "image/png": "[encoded data removed]",
      "text/plain": [
       "<matplotlib.figure.Figure at 0x15610ee50>"
      ]
     },
     "metadata": {},
     "output_type": "display_data"
    }
   ],
   "source": [
    "fig = plt.figure(figsize=(20,5))\n",
    "ax = fig.add_subplot(1,1,1)\n",
    "ax.bar([x for x in range(len(pca.explained_variance_ratio_))],pca.explained_variance_ratio_)\n",
    "print pca.explained_variance_ratio_.sum()"
   ]
  },
  {
   "cell_type": "code",
   "execution_count": null,
   "metadata": {
    "collapsed": false
   },
   "outputs": [],
   "source": []
  }
 ],
 "metadata": {
  "kernelspec": {
   "display_name": "Python 2",
   "language": "python",
   "name": "python2"
  },
  "language_info": {
   "codemirror_mode": {
    "name": "ipython",
    "version": 2
   },
   "file_extension": ".py",
   "mimetype": "text/x-python",
   "name": "python",
   "nbconvert_exporter": "python",
   "pygments_lexer": "ipython2",
   "version": "2.7.9"
  }
 },
 "nbformat": 4,
 "nbformat_minor": 0
}
