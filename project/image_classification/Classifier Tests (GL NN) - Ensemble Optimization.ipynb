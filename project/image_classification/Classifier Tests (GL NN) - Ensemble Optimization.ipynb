{
 "cells": [
  {
   "cell_type": "code",
   "execution_count": 123,
   "metadata": {
    "collapsed": false
   },
   "outputs": [],
   "source": [
    "import pandas as pd\n",
    "import pickle\n",
    "import numpy as np\n",
    "import datetime\n",
    "\n",
    "import urllib\n",
    "import cStringIO\n",
    "import Image\n",
    "\n",
    "from sklearn.ensemble import RandomForestClassifier, AdaBoostClassifier\n",
    "from sklearn.tree import DecisionTreeRegressor, DecisionTreeClassifier \n",
    "from sklearn.linear_model import LogisticRegression\n",
    "from sklearn.naive_bayes import GaussianNB, MultinomialNB \n",
    "from sklearn.decomposition import RandomizedPCA,PCA\n",
    "from sklearn.neighbors import KNeighborsClassifier\n",
    "from sklearn.svm import SVC\n",
    "from sklearn.lda import LDA\n",
    "from sklearn.qda import QDA\n",
    "\n",
    "from sklearn.pipeline import make_pipeline\n",
    "# from sklearn import svm\n",
    "from scipy.stats import mode\n",
    "from sklearn.cross_validation import cross_val_score\n",
    "\n",
    "import seaborn as sns\n",
    "from seaborn import plt\n",
    "\n",
    "%matplotlib inline"
   ]
  },
  {
   "cell_type": "code",
   "execution_count": 2,
   "metadata": {
    "collapsed": false
   },
   "outputs": [],
   "source": [
    "train = pd.DataFrame(pickle.load(open('/Volumes/flash/compology/image_data/train_gl_nn_data.pickle','r')))"
   ]
  },
  {
   "cell_type": "code",
   "execution_count": 3,
   "metadata": {
    "collapsed": true
   },
   "outputs": [],
   "source": [
    "test = pd.DataFrame(pickle.load(open('/Volumes/flash/compology/image_data/test_gl_nn_data.pickle','r')))"
   ]
  },
  {
   "cell_type": "code",
   "execution_count": 4,
   "metadata": {
    "collapsed": true
   },
   "outputs": [],
   "source": [
    "class ProcessTimer:\n",
    "  def __init__(self):\n",
    "    self.startTime = datetime.datetime.now()\n",
    "  def start(self,functionResponse,name=\"\"):\n",
    "    endTime = datetime.datetime.now()\n",
    "    self.delta = (endTime - self.startTime)\n",
    "    print \"{} Time |{}|\".format(name,self.delta.seconds)\n",
    "    return functionResponse"
   ]
  },
  {
   "cell_type": "code",
   "execution_count": 5,
   "metadata": {
    "collapsed": false
   },
   "outputs": [
    {
     "name": "stdout",
     "output_type": "stream",
     "text": [
      "12087 5181\n"
     ]
    }
   ],
   "source": [
    "X_train = list(train['pixel_data'][:].values)\n",
    "y_train = list(train['label'][:].values)\n",
    "\n",
    "X_test = list(test['pixel_data'].values)\n",
    "y_test = list(test['label'].values)\n",
    "print len(X_train),len(X_test)"
   ]
  },
  {
   "cell_type": "code",
   "execution_count": 6,
   "metadata": {
    "collapsed": false
   },
   "outputs": [],
   "source": [
    "pca = PCA(n_components=200)\n",
    "X_train = pca.fit_transform(list(train['pixel_data'].values))\n",
    "X_test = pca.transform(list(test['pixel_data'].values))"
   ]
  },
  {
   "cell_type": "markdown",
   "metadata": {},
   "source": [
    "# Ensemble Tests"
   ]
  },
  {
   "cell_type": "code",
   "execution_count": 110,
   "metadata": {
    "collapsed": false
   },
   "outputs": [],
   "source": [
    "models = [\n",
    "    {'baseclf': LDA(),'name': 'LinearDiscriminantAnalysis'},\n",
    "#     {'baseclf': SVC(kernel=\"linear\", C=0.025,probability=True),'name':\"SupportVectorClassifier\"},\n",
    "    {'baseclf': LogisticRegression(C=0.1,class_weight='auto',penalty='l2'),'name': \"LogisticRegression\"},\n",
    "    {'baseclf': KNeighborsClassifier(45, weights='distance'),'name': \"KNeighborsClassifier\"},\n",
    "    {'baseclf': QDA(),'name': 'QuadraticDiscriminantAnalysis'},\n",
    "    {'baseclf': GaussianNB(),'name': \"GaussianNB\"},\n",
    "    {'baseclf': RandomForestClassifier(n_estimators=30,max_depth=None, random_state=1),'name': \"RandomForestClassifier\"},\n",
    "    {'baseclf': AdaBoostClassifier(n_estimators=30,random_state=1),'name': \"AdaBoostClassifier\"},\n",
    "    {'baseclf': DecisionTreeClassifier(max_depth=6, random_state=1),'name': \"DecisionTreeClassifier\"}\n",
    "\n",
    "]"
   ]
  },
  {
   "cell_type": "code",
   "execution_count": 154,
   "metadata": {
    "collapsed": false
   },
   "outputs": [
    {
     "name": "stdout",
     "output_type": "stream",
     "text": [
      "LinearDiscriminantAnalysis Time |0|\n",
      "LogisticRegression Time |18|\n",
      "KNeighborsClassifier Time |0|\n",
      "QuadraticDiscriminantAnalysis Time |0|\n",
      "GaussianNB Time |0|\n",
      "RandomForestClassifier Time |7|\n",
      "AdaBoostClassifier Time |13|\n",
      "DecisionTreeClassifier Time |2|\n",
      "\n",
      "0.4107 | LinearDiscriminantAnalysis\n",
      "0.3797 | LogisticRegression\n",
      "0.371 | KNeighborsClassifier\n",
      "0.3577 | QuadraticDiscriminantAnalysis\n",
      "0.3272 | GaussianNB\n",
      "0.3096 | RandomForestClassifier\n",
      "0.294 | AdaBoostClassifier\n",
      "0.2884 | DecisionTreeClassifier\n"
     ]
    }
   ],
   "source": [
    "class EnsembleClassifier:\n",
    "    def __init__(self,classifiers,preprocessing=None):\n",
    "        self.classifiers = classifiers[:]\n",
    "        self.preprocessing = preprocessing\n",
    "        self.predictions = {'classifiers': [],'classes': [],'prob':[],'mean_prob':[],'class_dict':[]}\n",
    "            \n",
    "    def fit(self,xtrain,ytrain):\n",
    "        for model in self.classifiers:\n",
    "#             if self.preprocessing: model['clf'] = make_pipeline(self.preprocessing,model['baseclf'])\n",
    "#             else:\n",
    "            model['clf'] = model['baseclf']\n",
    "            ProcessTimer().start(\n",
    "                model['clf'].fit(xtrain,ytrain),\n",
    "            name=model['name'])\n",
    "    \n",
    "    def buildModelPredictionDict(self,xtest):\n",
    "        for model in self.classifiers:\n",
    "            self.predictions['classifiers'].append(model['name'])\n",
    "            self.predictions['classes'].append( model['clf'].predict(xtest))\n",
    "            \n",
    "            probabilityValues = [round(v.max(),3) for v in model['clf'].predict_proba(xtest)]\n",
    "            self.predictions['prob'].append( probabilityValues )\n",
    "\n",
    "            meanProb = round(np.asarray(probabilityValues).mean(),3)\n",
    "            self.predictions['mean_prob'].append(meanProb)            \n",
    "            \n",
    "        self.predictions['classes'] = map(list,zip(*self.predictions['classes']))\n",
    "        self.predictions['prob'] = map(list,zip(*self.predictions['prob']))\n",
    "        self.predictions['model_dict'] = self.buildClassifList(xtest)\n",
    "        return self.predictions\n",
    "    \n",
    "    def buildClassifList(self,xtest):\n",
    "        for i,v in enumerate(xtest):\n",
    "            names = [x[:3] for x in self.predictions['classifiers']]\n",
    "            classes = self.predictions['classes'][i]\n",
    "            prob = self.predictions['prob'][i]\n",
    "            mean_prob = [x for x in self.predictions['mean_prob']]\n",
    "            keys = ('name','class','prob','mean_prob')\n",
    "            classInfo = [dict(zip(keys,x)) for x in zip(names,classes,prob,mean_prob)]\n",
    "            self.predictions['class_dict'].append(classInfo)\n",
    "        return self.predictions['class_dict']\n",
    "    \n",
    "    def scoreAll(self,xtest,ytest):\n",
    "        for model in self.classifiers:\n",
    "            score = model['clf'].score(xtest,ytest)\n",
    "            print round(score,4),\"|\",model['name']\n",
    "\n",
    "    def getHighProbDict(self,xtest):\n",
    "        classDict = self.predictions['model_dict']\n",
    "        highProbDict = {'classes': [],'classifiers':[],'prediction':[]}\n",
    "        for i,v in enumerate(xtest):\n",
    "            highProbDict['classes'].append([x['class'] for x in classDict[i] if x['prob'] >= x['mean_prob']])\n",
    "            highProbDict['classifiers'].append([x['name'] for x in classDict[i] if x['prob'] >= x['mean_prob']])\n",
    "#             highProbDict['prediction'] = int(mode(highProbDict['classes'][i])[0][0])\n",
    "        return highProbDict\n",
    "        \n",
    "\n",
    "    def transform(self,xtest,ytest):\n",
    "        self\n",
    "\n",
    "\n",
    "eclf = EnsembleClassifier(models,preprocessing=PCA(n_components=200))\n",
    "eclf.fit(X_train,y_train);print\n",
    "eclf.scoreAll(X_test,y_test)\n",
    "# clf.score(X_test,y_test)\n",
    "### Below represents processing time for fitting classifiers, and scores of each classifier"
   ]
  },
  {
   "cell_type": "code",
   "execution_count": 155,
   "metadata": {
    "collapsed": false
   },
   "outputs": [
    {
     "name": "stdout",
     "output_type": "stream",
     "text": [
      "['class_dict', 'prob', 'classes', 'model_dict', 'mean_prob', 'classifiers']\n",
      "['LinearDiscriminantAnalysis', 'LogisticRegression', 'KNeighborsClassifier', 'QuadraticDiscriminantAnalysis', 'GaussianNB', 'RandomForestClassifier', 'AdaBoostClassifier', 'DecisionTreeClassifier']\n",
      "[0.64, 0.45, 0.404, 0.962, 0.62, 0.284, 0.104, 0.361]\n",
      "[{'prob': 1.0, 'mean_prob': 0.64, 'name': 'Lin', 'class': 0}, {'prob': 0.899, 'mean_prob': 0.45, 'name': 'Log', 'class': 0}, {'prob': 0.864, 'mean_prob': 0.404, 'name': 'KNe', 'class': 0}, {'prob': 1.0, 'mean_prob': 0.962, 'name': 'Qua', 'class': 0}, {'prob': 1.0, 'mean_prob': 0.62, 'name': 'Gau', 'class': 0}, {'prob': 0.6, 'mean_prob': 0.284, 'name': 'Ran', 'class': 0}, {'prob': 0.112, 'mean_prob': 0.104, 'name': 'Ada', 'class': 0}, {'prob': 0.945, 'mean_prob': 0.361, 'name': 'Dec', 'class': 0}]\n"
     ]
    }
   ],
   "source": [
    "predictions = eclf.buildModelPredictionDict(X_test)\n",
    "print predictions.keys()\n",
    "print predictions['classifiers']\n",
    "print predictions['mean_prob']\n",
    "print predictions['model_dict'][0]"
   ]
  },
  {
   "cell_type": "code",
   "execution_count": 218,
   "metadata": {
    "collapsed": false
   },
   "outputs": [
    {
     "name": "stdout",
     "output_type": "stream",
     "text": [
      "['LinearDisc', 'LogisticRe', 'KNeighbors', 'QuadraticD', 'GaussianNB', 'RandomFore', 'AdaBoostCl', 'DecisionTr']\n",
      "0 | 0 | [0, 0, 0, 0, 0, 0, 0, 0]\n",
      "40 | 40 | [40, 40, 30, 40, 30, 40, 20, 30]\n",
      "30 | 20 | [20, 20, 20, 20, 20, 30, 30, 30]\n",
      "40 | 40 | [50, 50, 40, 40, 30, 30, 40, 50]\n",
      "30 | 40 | [40, 40, 40, 40, 20, 30, 30, 30]\n",
      "20 | 20 | [20, 20, 10, 20, 20, 20, 20, 10]\n",
      "30 | 10 | [0, 0, 10, 10, 50, 10, 20, 20]\n",
      "0 | 0 | [0, 0, 0, 0, 0, 0, 10, 0]\n",
      "0 | 0 | [0, 0, 0, 0, 0, 0, 0, 0]\n",
      "0 | 0 | [0, 0, 0, 0, 0, 0, 0, 0]\n",
      "20 | 10 | [10, 10, 10, 20, 50, 10, 20, 20]\n",
      "0 | 0 | [0, 0, 0, 0, 0, 0, 0, 10]\n",
      "50 | 40 | [40, 40, 40, 40, 10, 40, 30, 50]\n",
      "40 | 40 | [30, 60, 50, 40, 20, 40, 40, 30]\n",
      "50 | 70 | [50, 60, 50, 70, 70, 40, 70, 80]\n",
      "40 | 30 | [40, 40, 30, 40, 40, 30, 30, 30]\n",
      "10 | 10 | [10, 10, 10, 10, 10, 10, 10, 10]\n",
      "40 | 50 | [50, 50, 50, 30, 50, 30, 30, 50]\n",
      "30 | 20 | [20, 20, 20, 20, 10, 20, 10, 20]\n",
      "20 | 20 | [20, 20, 20, 20, 10, 10, 10, 20]\n"
     ]
    }
   ],
   "source": [
    "# highProbDict = eclf.getHighProbDict(X_test)\n",
    "modePredictions = []\n",
    "print [x[:10] for x in predictions['classifiers']]\n",
    "for i,y in enumerate(y_test[:]):\n",
    "    modeValue = int(mode(np.asarray(predictions['classes'][i]))[0][0])\n",
    "    if i < 20:\n",
    "        print y,\"|\",modeValue,\"|\",predictions['classes'][i]\n",
    "    modePredictions.append(modeValue)\n",
    "\n",
    "## y, pred_y, all_pred"
   ]
  },
  {
   "cell_type": "code",
   "execution_count": 221,
   "metadata": {
    "collapsed": false
   },
   "outputs": [
    {
     "name": "stdout",
     "output_type": "stream",
     "text": [
      "Score for Mode of ensemble Classifier: 0.3926\n"
     ]
    }
   ],
   "source": [
    "escore = float(sum(np.asarray(modePredictions) == np.asarray(y_test))) / float(len(y_test))\n",
    "print \"Score for Mode of ensemble Classifier: {:.4f}\".format(escore)\n"
   ]
  },
  {
   "cell_type": "code",
   "execution_count": 132,
   "metadata": {
    "collapsed": false
   },
   "outputs": [
    {
     "data": {
      "text/plain": [
       "<matplotlib.image.AxesImage at 0x199e87790>"
      ]
     },
     "execution_count": 132,
     "metadata": {},
     "output_type": "execute_result"
    },
    {
     "data": {
      "image/png": "[encoded data removed]",
      "text/plain": [
       "<matplotlib.figure.Figure at 0x19878ebd0>"
      ]
     },
     "metadata": {},
     "output_type": "display_data"
    }
   ],
   "source": [
    "f = urllib.urlopen(test.img[18])\n",
    "img = cStringIO.StringIO(f.read())\n",
    "imgBase = Image.open(img)\n",
    "plt.imshow(imgBase)"
   ]
  },
  {
   "cell_type": "code",
   "execution_count": null,
   "metadata": {
    "collapsed": false
   },
   "outputs": [],
   "source": []
  },
  {
   "cell_type": "code",
   "execution_count": 266,
   "metadata": {
    "collapsed": false
   },
   "outputs": [
    {
     "name": "stdout",
     "output_type": "stream",
     "text": [
      "Log score: 1967 | 0.379656436981\n",
      "Avg score:  1932 | 0.372900984366\n",
      "Mode scores 2034 | 0.392588303416\n"
     ]
    }
   ],
   "source": [
    "logPosition = 1\n",
    "def scoreTests(predictionGroup,actual):\n",
    "    logScores = [y == predictionGroup[i][logPosition] for  i,y in enumerate(actual)]\n",
    "    print \"Log score:\",sum(logScores),\"|\",float(sum(logScores))/float(len(logScores))\n",
    "    \n",
    "    avg = lambda x: int(round(float(sum(x)/len(x))/10,0)*10)\n",
    "    averages =  map(avg,predictionGroup)\n",
    "    avgScores = [y == averages[i] for  i,y in enumerate(actual)]\n",
    "    print \"Avg score: \",sum(avgScores),\"|\",float(sum(avgScores))/float(len(avgScores))\n",
    "\n",
    "    getMode = lambda x: int(mode(x)[0][0])\n",
    "    modes = map(getMode,predictionGroup)\n",
    "    modeScores = [y == modes[i] for  i,y in enumerate(actual)]\n",
    "    print \"Mode scores\",sum(modeScores),\"|\",float(sum(modeScores))/float(len(modeScores))\n",
    "    \n",
    "    return [abs(y-actual[i]) for i,y in enumerate(modes)]\n",
    "    \n",
    "\n",
    "variances = scoreTests(prediction['values'],y_test)\n"
   ]
  },
  {
   "cell_type": "code",
   "execution_count": 267,
   "metadata": {
    "collapsed": false
   },
   "outputs": [
    {
     "name": "stdout",
     "output_type": "stream",
     "text": [
      "{0: 2034, 100: 2, 70: 15, 40: 87, 10: 1971, 80: 4, 50: 51, 20: 705, 90: 5, 60: 34, 30: 273}\n",
      "2034  0.392588303416\n",
      "1971  0.380428488709\n",
      "705  0.136074116966\n"
     ]
    }
   ],
   "source": [
    "def calculateLabelVariances(variances):\n",
    "    varDict = {}\n",
    "    for v in variances:\n",
    "        if v not in varDict:\n",
    "            varDict[v] = 1\n",
    "        else:\n",
    "            varDict[v] += 1\n",
    "    return varDict\n",
    "variances[:10]\n",
    "\n",
    "varScores = calculateLabelVariances(variances)\n",
    "print varScores\n",
    "print varScores[0],\"\",float(varScores[0])/ float(len(variances))\n",
    "print varScores[10],\"\",float(varScores[10])/ float(len(variances))\n",
    "print varScores[20],\"\",float(varScores[20])/ float(len(variances))"
   ]
  },
  {
   "cell_type": "code",
   "execution_count": null,
   "metadata": {
    "collapsed": true
   },
   "outputs": [],
   "source": []
  },
  {
   "cell_type": "code",
   "execution_count": null,
   "metadata": {
    "collapsed": true
   },
   "outputs": [],
   "source": []
  },
  {
   "cell_type": "code",
   "execution_count": 212,
   "metadata": {
    "collapsed": false
   },
   "outputs": [
    {
     "name": "stdout",
     "output_type": "stream",
     "text": [
      "Pipeline(steps=[('pca', PCA(copy=True, n_components=200, whiten=False)), ('logisticregression', LogisticRegression(C=0.1, class_weight='auto', dual=False, fit_intercept=True,\n",
      "          intercept_scaling=1, penalty='l2', random_state=None, tol=0.0001))])\n",
      "PCA / LOG Pipeline score: 0.379656436981\n"
     ]
    }
   ],
   "source": [
    "clfPip = make_pipeline(PCA(n_components=200),LogisticRegression(C=0.1,class_weight='auto',penalty='l2'))\n",
    "print testClf\n",
    "clfPip.fit(list(train['pixel_data'][:].values),list(train['label'][:].values))\n",
    "print \"PCA / LOG Pipeline score: {}\".format(clfPip.score(list(test['pixel_data'][:].values),list(test['label'][:].values)))"
   ]
  },
  {
   "cell_type": "code",
   "execution_count": null,
   "metadata": {
    "collapsed": true
   },
   "outputs": [],
   "source": []
  },
  {
   "cell_type": "code",
   "execution_count": null,
   "metadata": {
    "collapsed": false
   },
   "outputs": [],
   "source": []
  },
  {
   "cell_type": "code",
   "execution_count": 70,
   "metadata": {
    "collapsed": false
   },
   "outputs": [],
   "source": [
    "df = test.copy()"
   ]
  },
  {
   "cell_type": "code",
   "execution_count": 132,
   "metadata": {
    "collapsed": false
   },
   "outputs": [
    {
     "name": "stdout",
     "output_type": "stream",
     "text": [
      "['knn', 'gnb', 'abc', 'log', 'dtc', 'rfc']\n"
     ]
    }
   ],
   "source": [
    "def scoreModel(clf,df,X,y):\n",
    "    pred = clf.predict(Xtest)\n",
    "    prob = [x.max() for x in clf.predict_proba(Xtest)]\n",
    "    df['pred'] = pred\n",
    "    df['prob'] = prob\n",
    "    df['variance'] = [abs(pred[i] - x) for i,x in enumerate(df.label.values)]\n",
    "    dfv = df['variance'].value_counts(sort=False,normalize=True).sort_index()\n",
    "    var0 = dfv.values[0]*100\n",
    "    var10 = dfv.values[1]*100\n",
    "    var20 = dfv.values[2]*100\n",
    "    varGreater = (100 - var0 - var10 - var20)\n",
    "    print \"0: {:.1f}% | 10: {:.1f}% | 20: {:.1f}% | greater error: {:.1f}%\".format(var0,var10,var20,varGreater)\n",
    "    print \"Average probability |{}|\".format(df['prob'].mean())\n",
    "    print \"Mean |{}|\".format(df['variance'].mean())\n",
    "    \n",
    "    dfp = df[df.prob > (df['prob'].mean()*0.7)]\n",
    "    dfv = dfp['variance'].value_counts(sort=False,normalize=True).sort_index()\n",
    "    var0 = dfv.values[0]*100\n",
    "    var10 = dfv.values[1]*100\n",
    "    var20 = dfv.values[2]*100\n",
    "    varGreater = (100 - var0 - var10 - var20)\n",
    "    print float(len(dfp))/float(len(df))\n",
    "    print \"0: {:.1f}% | 10: {:.1f}% | 20: {:.1f}% | greater error: {:.1f}%\".format(var0,var10,var20,varGreater)\n",
    "    \n",
    "    return df\n",
    "print models.keys()"
   ]
  },
  {
   "cell_type": "code",
   "execution_count": null,
   "metadata": {
    "collapsed": true
   },
   "outputs": [],
   "source": []
  }
 ],
 "metadata": {
  "kernelspec": {
   "display_name": "Python 2",
   "language": "python",
   "name": "python2"
  },
  "language_info": {
   "codemirror_mode": {
    "name": "ipython",
    "version": 2
   },
   "file_extension": ".py",
   "mimetype": "text/x-python",
   "name": "python",
   "nbconvert_exporter": "python",
   "pygments_lexer": "ipython2",
   "version": "2.7.9"
  }
 },
 "nbformat": 4,
 "nbformat_minor": 0
}
