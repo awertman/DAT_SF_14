{
 "cells": [
  {
   "cell_type": "code",
   "execution_count": 52,
   "metadata": {
    "collapsed": false
   },
   "outputs": [],
   "source": [
    "%matplotlib inline\n",
    "from __future__ import division\n",
    "import pandas as pd\n",
    "import numpy as np\n",
    "from seaborn import plt\n",
    "# import matplotlib.pyplot as plt\n",
    "from matplotlib.colors import ListedColormap\n",
    "from sklearn import neighbors, datasets, feature_selection\n",
    "from sklearn.cross_validation import train_test_split, cross_val_score"
   ]
  },
  {
   "cell_type": "code",
   "execution_count": 3,
   "metadata": {
    "collapsed": true
   },
   "outputs": [],
   "source": [
    "from sklearn.datasets import load_iris"
   ]
  },
  {
   "cell_type": "code",
   "execution_count": 5,
   "metadata": {
    "collapsed": false
   },
   "outputs": [
    {
     "data": {
      "text/html": [
       "<div style=\"max-height:1000px;max-width:1500px;overflow:auto;\">\n",
       "<table border=\"1\" class=\"dataframe\">\n",
       "  <thead>\n",
       "    <tr style=\"text-align: right;\">\n",
       "      <th></th>\n",
       "      <th>sepal length (cm)</th>\n",
       "      <th>sepal width (cm)</th>\n",
       "      <th>petal length (cm)</th>\n",
       "      <th>petal width (cm)</th>\n",
       "      <th>Target</th>\n",
       "    </tr>\n",
       "  </thead>\n",
       "  <tbody>\n",
       "    <tr>\n",
       "      <th>0</th>\n",
       "      <td> 5.1</td>\n",
       "      <td> 3.5</td>\n",
       "      <td> 1.4</td>\n",
       "      <td> 0.2</td>\n",
       "      <td> 0</td>\n",
       "    </tr>\n",
       "    <tr>\n",
       "      <th>1</th>\n",
       "      <td> 4.9</td>\n",
       "      <td> 3.0</td>\n",
       "      <td> 1.4</td>\n",
       "      <td> 0.2</td>\n",
       "      <td> 0</td>\n",
       "    </tr>\n",
       "    <tr>\n",
       "      <th>2</th>\n",
       "      <td> 4.7</td>\n",
       "      <td> 3.2</td>\n",
       "      <td> 1.3</td>\n",
       "      <td> 0.2</td>\n",
       "      <td> 0</td>\n",
       "    </tr>\n",
       "    <tr>\n",
       "      <th>3</th>\n",
       "      <td> 4.6</td>\n",
       "      <td> 3.1</td>\n",
       "      <td> 1.5</td>\n",
       "      <td> 0.2</td>\n",
       "      <td> 0</td>\n",
       "    </tr>\n",
       "  </tbody>\n",
       "</table>\n",
       "</div>"
      ],
      "text/plain": [
       "   sepal length (cm)  sepal width (cm)  petal length (cm)  petal width (cm)  \\\n",
       "0                5.1               3.5                1.4               0.2   \n",
       "1                4.9               3.0                1.4               0.2   \n",
       "2                4.7               3.2                1.3               0.2   \n",
       "3                4.6               3.1                1.5               0.2   \n",
       "\n",
       "   Target  \n",
       "0       0  \n",
       "1       0  \n",
       "2       0  \n",
       "3       0  "
      ]
     },
     "execution_count": 5,
     "metadata": {},
     "output_type": "execute_result"
    }
   ],
   "source": [
    "iris = datasets.load_iris()\n",
    "iris_df = pd.DataFrame(iris.data, columns=iris.feature_names)\n",
    "iris_df['Target'] = iris.target\n",
    "iris_df.head(4)"
   ]
  },
  {
   "cell_type": "code",
   "execution_count": 18,
   "metadata": {
    "collapsed": false
   },
   "outputs": [
    {
     "data": {
      "text/html": [
       "<div style=\"max-height:1000px;max-width:1500px;overflow:auto;\">\n",
       "<table border=\"1\" class=\"dataframe\">\n",
       "  <thead>\n",
       "    <tr style=\"text-align: right;\">\n",
       "      <th></th>\n",
       "      <th>slength</th>\n",
       "      <th>swidth</th>\n",
       "      <th>plength</th>\n",
       "      <th>pwidth</th>\n",
       "      <th>Target</th>\n",
       "    </tr>\n",
       "  </thead>\n",
       "  <tbody>\n",
       "    <tr>\n",
       "      <th>0</th>\n",
       "      <td> 5.1</td>\n",
       "      <td> 3.5</td>\n",
       "      <td> 1.4</td>\n",
       "      <td> 0.2</td>\n",
       "      <td> 0</td>\n",
       "    </tr>\n",
       "    <tr>\n",
       "      <th>1</th>\n",
       "      <td> 4.9</td>\n",
       "      <td> 3.0</td>\n",
       "      <td> 1.4</td>\n",
       "      <td> 0.2</td>\n",
       "      <td> 0</td>\n",
       "    </tr>\n",
       "    <tr>\n",
       "      <th>2</th>\n",
       "      <td> 4.7</td>\n",
       "      <td> 3.2</td>\n",
       "      <td> 1.3</td>\n",
       "      <td> 0.2</td>\n",
       "      <td> 0</td>\n",
       "    </tr>\n",
       "    <tr>\n",
       "      <th>3</th>\n",
       "      <td> 4.6</td>\n",
       "      <td> 3.1</td>\n",
       "      <td> 1.5</td>\n",
       "      <td> 0.2</td>\n",
       "      <td> 0</td>\n",
       "    </tr>\n",
       "  </tbody>\n",
       "</table>\n",
       "</div>"
      ],
      "text/plain": [
       "   slength  swidth  plength  pwidth  Target\n",
       "0      5.1     3.5      1.4     0.2       0\n",
       "1      4.9     3.0      1.4     0.2       0\n",
       "2      4.7     3.2      1.3     0.2       0\n",
       "3      4.6     3.1      1.5     0.2       0"
      ]
     },
     "execution_count": 18,
     "metadata": {},
     "output_type": "execute_result"
    }
   ],
   "source": [
    "df = iris_df.copy()\n",
    "df.columns = ['slength','swidth','plength','pwidth','Target']\n",
    "df.head(4)"
   ]
  },
  {
   "cell_type": "code",
   "execution_count": 25,
   "metadata": {
    "collapsed": false
   },
   "outputs": [
    {
     "data": {
      "image/png": "[encoded data removed]",
      "text/plain": [
       "<matplotlib.figure.Figure at 0x10b62de10>"
      ]
     },
     "metadata": {},
     "output_type": "display_data"
    }
   ],
   "source": [
    "fig, axes = plt.subplots(nrows=2, ncols=3)\n",
    "\n",
    "colors = ['r','g','b']\n",
    "for i in range(3): \n",
    "    tmp = df[df.Target == i]\n",
    "    tmp.plot(x='slength',y='swidth', kind='scatter', c=colors[i], ax=axes[0,0])\n",
    "\n",
    "for i in range(3): \n",
    "    tmp = df[df.Target == i]\n",
    "    tmp.plot(x='slength',y='plength', kind='scatter', c=colors[i], ax=axes[0,1])\n",
    "\n",
    "for i in range(3): \n",
    "    tmp = df[df.Target == i]\n",
    "    tmp.plot(x='slength',y='pwidth', kind='scatter', c=colors[i], ax=axes[0,2])\n",
    "    \n",
    "for i in range(3): \n",
    "    tmp = df[df.Target == i]\n",
    "    tmp.plot(x='swidth',y='plength', kind='scatter', c=colors[i], ax=axes[1,0])\n",
    "\n",
    "for i in range(3): \n",
    "    tmp = df[df.Target == i]\n",
    "    tmp.plot(x='swidth',y='pwidth', kind='scatter', c=colors[i], ax=axes[1,1])\n",
    "\n",
    "for i in range(3): \n",
    "    tmp = df[df.Target == i]\n",
    "    tmp.plot(x='plength',y='pwidth', kind='scatter', c=colors[i], ax=axes[1,2])\n"
   ]
  },
  {
   "cell_type": "code",
   "execution_count": 59,
   "metadata": {
    "collapsed": false
   },
   "outputs": [],
   "source": [
    "X_train, X_test, y_train, y_test = train_test_split(df[['slength','swidth','plength','pwidth']], df.Target, test_size=0.3, random_state=12)"
   ]
  },
  {
   "cell_type": "code",
   "execution_count": 87,
   "metadata": {
    "collapsed": false
   },
   "outputs": [
    {
     "name": "stdout",
     "output_type": "stream",
     "text": [
      "30 | [1, 3, 5, 7, 9, 11, 13, 15, 17, 19, 21, 23, 25, 27, 29, 31, 33, 35, 37, 39, 41, 43, 45, 47, 49, 51, 53, 55, 57, 59]\n",
      "\n",
      "Optimal number of neighbors: 11\n"
     ]
    },
    {
     "data": {
      "image/png": "[encoded data removed]",
      "text/plain": [
       "<matplotlib.figure.Figure at 0x10beffa90>"
      ]
     },
     "metadata": {},
     "output_type": "display_data"
    }
   ],
   "source": [
    "scores = []\n",
    "n_neighbors = range(1, 60, 2)\n",
    "print len(n_neighbors),\"|\",n_neighbors\n",
    "for n in n_neighbors:\n",
    "    clf = neighbors.KNeighborsClassifier(n)\n",
    "    clf.fit(X_train, y_train)\n",
    "    scores.append(clf.score(X_test, y_test))\n",
    "plt.plot(n_neighbors, scores, linewidth=3.0)\n",
    "print\n",
    "maxValues = [{'index':i,'score':x} for i,x in enumerate(scores) if x == max(scores)][0]\n",
    "optimumNeighbors = n_neighbors[maxValues['index']]\n",
    "print \"Optimal number of neighbors: {:d}\".format(optimumNeighbors)\n"
   ]
  },
  {
   "cell_type": "code",
   "execution_count": 93,
   "metadata": {
    "collapsed": false
   },
   "outputs": [
    {
     "name": "stdout",
     "output_type": "stream",
     "text": [
      "[ True  True  True  True  True  True  True  True  True  True  True  True\n",
      "  True  True  True  True  True  True  True  True  True  True  True  True\n",
      "  True  True  True  True  True  True  True  True  True  True  True  True\n",
      "  True  True  True  True  True  True  True  True  True]\n"
     ]
    }
   ],
   "source": [
    "clf = neighbors.KNeighborsClassifier(optimumNeighbors) # 11\n",
    "clf.fit(X_train, y_train)\n",
    "print clf.predict(X_test) == y_test"
   ]
  },
  {
   "cell_type": "code",
   "execution_count": 356,
   "metadata": {
    "collapsed": false
   },
   "outputs": [
    {
     "name": "stdout",
     "output_type": "stream",
     "text": [
      "[ 0.93333333  1.          1.          0.96666667  1.        ]\n",
      "0.98\n"
     ]
    }
   ],
   "source": [
    "clf = neighbors.KNeighborsClassifier(11, weights='uniform') ### k=11 was best from earlier result. \n",
    "clf.fit(df.ix[:,0:4], df.Target)\n",
    "scores = cross_val_score(clf, X=df.ix[:,0:4], y=df.Target, cv=5)\n",
    "print scores\n",
    "print scores.mean()"
   ]
  },
  {
   "cell_type": "code",
   "execution_count": 411,
   "metadata": {
    "collapsed": false
   },
   "outputs": [
    {
     "name": "stdout",
     "output_type": "stream",
     "text": [
      "[ 0.96666667  0.96666667  1.          1.          0.93333333]\n",
      "0.973333333333\n"
     ]
    }
   ],
   "source": [
    "def randomizeLists(*arrays):\n",
    "    indexes = range(0,len(arrays[0]))\n",
    "    np.random.shuffle(indexes)\n",
    "    arraysToReturn = tuple()\n",
    "    for a in arrays:\n",
    "        randomizedA = [a[i] for i in indexes]\n",
    "        arraysToReturn += tuple([randomizedA])\n",
    "    return arraysToReturn\n",
    "        \n",
    "def custom_cross_validation_score(clf,X,y,folds=5,randomize=True):\n",
    "    foldSize = int(len(X)/folds)\n",
    "    foldIndexStart = 0\n",
    "    if randomize: X,y = randomizeLists(X,y)\n",
    "    scores = []\n",
    "    for n in range(0,folds):\n",
    "        foldIndexEnd = foldIndexStart+foldSize\n",
    "        X_test_fold = X[foldIndexStart:foldIndexEnd]\n",
    "        y_test_fold = y[foldIndexStart:foldIndexEnd]\n",
    "        X_train_fold = [x for i,x in enumerate(X) if i < foldIndexStart or i >= foldIndexEnd]\n",
    "        y_train_fold = [Y for i,Y in enumerate(y) if i < foldIndexStart or i >= foldIndexEnd]\n",
    "        clf.fit(X_train_fold,y_train_fold)\n",
    "        scores.append(clf.score(X_test_fold,y_test_fold))\n",
    "        foldIndexStart+=foldSize\n",
    "    return np.asarray(scores)\n",
    "        \n",
    "        \n",
    "    \n",
    "clf = neighbors.KNeighborsClassifier(11, weights='uniform')\n",
    "X = df.ix[:,0:4].values\n",
    "y = df.Target\n",
    "scores = custom_cross_validation_score(clf,X,y, folds=5,randomize=True)\n",
    "print scores\n",
    "print scores.mean()"
   ]
  },
  {
   "cell_type": "code",
   "execution_count": 482,
   "metadata": {
    "collapsed": false
   },
   "outputs": [
    {
     "name": "stdout",
     "output_type": "stream",
     "text": [
      "[0, 2, 0, 1, 2, 2, 2, 0, 2, 0, 2, 0, 0, 0, 1, 2, 2, 1, 0, 2, 0, 1, 2, 2, 0, 2, 2, 1, 0, 0, 0, 1, 2, 0, 2, 0, 1, 1, 0, 1, 1, 0, 0, 0, 0]\n",
      "[0 2 0 1 2 2 2 0 2 0 1 0 0 0 1 2 2 1 0 1 0 1 2 1 0 2 1 1 0 0 0 1 2 0 2 0 1\n",
      " 1 0 1 1 0 0 0 0]\n",
      "Accuracy Score: 0.911111%\n"
     ]
    }
   ],
   "source": [
    "class custom_KNearestNeigbhors_classifier:\n",
    "    def __init__(self,k):\n",
    "        self.k = k\n",
    "        \n",
    "    def fit(self,X,y):\n",
    "        self.pointMatrix = []\n",
    "        for i, features in enumerate(X):\n",
    "            point = {}\n",
    "            point['features'] = features\n",
    "            point['label'] = y[i]\n",
    "            self.pointMatrix.append(point)\n",
    "    \n",
    "    def predict(self,X,y):\n",
    "        predictions = []\n",
    "        for i,features in enumerate(X):\n",
    "            distanceScores = []\n",
    "            for point in self.pointMatrix:\n",
    "                distance = self.calculateDistance(features,point['features'])\n",
    "                distanceScores.append({'distance':distance,'label':point['label']})\n",
    "                \n",
    "            distanceScores.sort() ## order lowest distance to highest distance\n",
    "            topKlabels =[ score['label'] for score in distanceScores[:self.k]]\n",
    "            \n",
    "            ### need to look for better function to find max count in list\n",
    "            topKlabelDict = {}\n",
    "            for k in topKlabels:\n",
    "                if k in topKlabelDict:\n",
    "                    topKlabelDict[k]+=1\n",
    "                else:\n",
    "                    topKlabelDict[k]=1\n",
    "            \n",
    "            ### and max function extends to hered..\n",
    "            predictedLabel = {'label': None, 'value': 0}\n",
    "            for k,v in topKlabelDict.items(): \n",
    "                if v > predictedLabel['value']:\n",
    "                    predictedLabel['label'] = k\n",
    "#             print topKlabelDict\n",
    "#             print topKlabels\n",
    "#             print predictedLabel\n",
    "#             print\n",
    "                    \n",
    "                    \n",
    "            predictions.append(predictedLabel['label'])\n",
    "        return predictions\n",
    "        \n",
    "    def calculateDistance(self,a,b):\n",
    "        ### NO IDEA WHAT DISTANCE FUNCTION IS\n",
    "        return sum([abs(x-b[i]) for i,x in enumerate(list(a))])\n",
    "    \n",
    "\n",
    "clf  = custom_KNearestNeigbhors_classifier(11)\n",
    "clf.fit(X_train,y_train)\n",
    "predictions = clf.predict(X_test,y_test)\n",
    "print predictions\n",
    "print y_test\n",
    "print \"Accuracy Score: {:2f}%\".format(sum(sum( [ predictions == y_test ] ))/ len(predictions))"
   ]
  }
 ],
 "metadata": {
  "kernelspec": {
   "display_name": "Python 2",
   "language": "python",
   "name": "python2"
  },
  "language_info": {
   "codemirror_mode": {
    "name": "ipython",
    "version": 2
   },
   "file_extension": ".py",
   "mimetype": "text/x-python",
   "name": "python",
   "nbconvert_exporter": "python",
   "pygments_lexer": "ipython2",
   "version": "2.7.9"
  }
 },
 "nbformat": 4,
 "nbformat_minor": 0
}
